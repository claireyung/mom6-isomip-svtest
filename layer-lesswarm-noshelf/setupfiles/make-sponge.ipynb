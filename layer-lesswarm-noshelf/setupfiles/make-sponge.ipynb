{
 "cells": [
  {
   "cell_type": "code",
   "execution_count": 1,
   "id": "fc7da131-3de3-4af1-8019-fdfbc6fb9764",
   "metadata": {},
   "outputs": [],
   "source": [
    "from netCDF4 import Dataset"
   ]
  },
  {
   "cell_type": "code",
   "execution_count": 2,
   "id": "e63a514b-c315-4102-8cb7-73c0e655f2dc",
   "metadata": {},
   "outputs": [
    {
     "name": "stdout",
     "output_type": "stream",
     "text": [
      "/home/156/cy8964\n"
     ]
    }
   ],
   "source": [
    "!pwd"
   ]
  },
  {
   "cell_type": "code",
   "execution_count": 3,
   "id": "f8ba7565-4ef5-4c58-8132-bcaff8947ebf",
   "metadata": {},
   "outputs": [],
   "source": [
    "!cp /home/156/cy8964/mom6-control/isomip-control/ISOMIP-MOM6-examples/layer-lesswarm-noshelf/setupfiles/ISOMIP_IC_FITSALITYTRUE.nc /home/156/cy8964/ISOMIP/3D_LAYER_LESSWARM_IC_TEST9OCT.nc"
   ]
  },
  {
   "cell_type": "code",
   "execution_count": 4,
   "id": "999574c7-c9bd-49bb-ae5c-bad5bd5902fd",
   "metadata": {},
   "outputs": [],
   "source": [
    "wd = '/home/156/cy8964/mom6-control/isomip-control/ISOMIP-MOM6-examples/layer-lesswarm-noshelf/setupfiles/'\n",
    "fname1 = wd+'ISOMIP_IC_FITSALITYFALSE.nc'\n",
    "\n",
    "fname2 = '/home/156/cy8964/ISOMIP/3D_LAYER_LESSWARM_IC_TEST9OCT.nc'"
   ]
  },
  {
   "cell_type": "code",
   "execution_count": 5,
   "id": "ee3392e3-14cd-4b90-9923-545d9ee711e8",
   "metadata": {},
   "outputs": [
    {
     "name": "stdout",
     "output_type": "stream",
     "text": [
      "*** Variable Salt was written successfully. \n",
      "\n"
     ]
    }
   ],
   "source": [
    "salt = Dataset(fname1).variables['Salt'][:]\n",
    "file = Dataset(fname2,'r+')\n",
    "file.variables['Salt'][:]=salt[:]\n",
    "file.close()\n",
    "print('*** Variable Salt was written successfully. \\n')"
   ]
  },
  {
   "cell_type": "markdown",
   "id": "648f8fb9-e856-4840-bde3-416745fdbfc5",
   "metadata": {},
   "source": [
    "https://github.com/gustavo-marques/ISOMIP/blob/master/setup/python/make_sponge.py"
   ]
  },
  {
   "cell_type": "code",
   "execution_count": null,
   "id": "c0e88259-8b7a-4196-89a4-0c5e80e6bdf4",
   "metadata": {},
   "outputs": [],
   "source": []
  }
 ],
 "metadata": {
  "kernelspec": {
   "display_name": "Python [conda env:analysis3-23.07] *",
   "language": "python",
   "name": "conda-env-analysis3-23.07-py"
  },
  "language_info": {
   "codemirror_mode": {
    "name": "ipython",
    "version": 3
   },
   "file_extension": ".py",
   "mimetype": "text/x-python",
   "name": "python",
   "nbconvert_exporter": "python",
   "pygments_lexer": "ipython3",
   "version": "3.10.12"
  }
 },
 "nbformat": 4,
 "nbformat_minor": 5
}
